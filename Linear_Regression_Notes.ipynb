{
 "cells": [
  {
   "cell_type": "markdown",
   "id": "e89082e9",
   "metadata": {},
   "source": [
    "# 📘 Linear Regression: A Complete Guide"
   ]
  },
  {
   "cell_type": "markdown",
   "id": "042576fc",
   "metadata": {},
   "source": [
    "\n",
    "Machine Learning allows computers to learn from data and make predictions or decisions without being explicitly programmed. One of the foundational algorithms in supervised learning is **Linear Regression**.\n"
   ]
  },
  {
   "cell_type": "markdown",
   "id": "6149e249",
   "metadata": {},
   "source": [
    "## 🔢 What is Linear Regression?"
   ]
  },
  {
   "cell_type": "markdown",
   "id": "af792bf1",
   "metadata": {},
   "source": [
    "\n",
    "Linear Regression is used to model the relationship between a **dependent variable (target)** and one or more **independent variables (features)** by fitting a linear equation.\n",
    "\n",
    "**Why?**\n",
    "- To understand relationships between variables.\n",
    "- To predict outcomes using existing data.\n",
    "\n",
    "**Types:**\n",
    "- **Univariate Linear Regression**: One input feature.\n",
    "- **Multivariate Linear Regression**: Multiple input features.\n",
    "\n",
    "**Hypothesis Function:**\n",
    "\n",
    "$$\n",
    "\\hat{y} = f(x) = wx + b\n",
    "$$\n",
    "\n",
    "Where:\n",
    "- $x$ = input feature(s)\n",
    "- $w$ = weight (slope)\n",
    "- $b$ = bias (intercept)\n"
   ]
  },
  {
   "cell_type": "markdown",
   "id": "e2cacb18",
   "metadata": {},
   "source": [
    "## 📉 Cost Function"
   ]
  },
  {
   "cell_type": "markdown",
   "id": "1c3036ef",
   "metadata": {},
   "source": [
    "\n",
    "**Why?**\n",
    "- Measures how far off the predicted values are from the actual values.\n",
    "\n",
    "**How?**\n",
    "- Uses Mean Squared Error (MSE):\n",
    "\n",
    "$$\n",
    "J(w, b) = \\frac{1}{2m} \\sum_{i=1}^{m} (\\hat{y}^{(i)} - y^{(i)})^2\n",
    "$$\n",
    "\n",
    "Where:\n",
    "- $m$ = number of training examples\n",
    "- $\\hat{y}^{(i)}$ = predicted value\n",
    "- $y^{(i)}$ = actual value\n",
    "\n",
    "Lower cost = better performance.\n"
   ]
  },
  {
   "cell_type": "markdown",
   "id": "b560af4c",
   "metadata": {},
   "source": [
    "## ⚙️ Gradient Descent"
   ]
  },
  {
   "cell_type": "markdown",
   "id": "af3798fb",
   "metadata": {},
   "source": [
    "\n",
    "**Why?**\n",
    "- To minimize the cost function by adjusting parameters ($w$, $b$).\n",
    "\n",
    "**How?**\n",
    "- Update rule:\n",
    "\n",
    "$$\n",
    "w := w - \\alpha \\frac{\\partial J}{\\partial w}\n",
    "$$\n",
    "$$\n",
    "b := b - \\alpha \\frac{\\partial J}{\\partial b}\n",
    "$$\n",
    "\n",
    "Where:\n",
    "- $\\alpha$ = learning rate\n"
   ]
  },
  {
   "cell_type": "markdown",
   "id": "8e66eaa9",
   "metadata": {},
   "source": [
    "## 🏡 Real-Life Use Case: Predicting House Prices"
   ]
  },
  {
   "cell_type": "markdown",
   "id": "584c5a36",
   "metadata": {},
   "source": [
    "\n",
    "**Where?**\n",
    "- Real estate: Predict house prices based on area, rooms, location, etc.\n",
    "- Finance: Predict sales or revenue.\n",
    "- Healthcare: Estimate risk or costs.\n",
    "\n",
    "**Example**: Predict salary based on experience.\n"
   ]
  },
  {
   "cell_type": "markdown",
   "id": "15eedee0",
   "metadata": {},
   "source": [
    "## 🛠️ Implementation using Scikit-Learn"
   ]
  },
  {
   "cell_type": "code",
   "execution_count": null,
   "id": "4f3003ce",
   "metadata": {},
   "outputs": [],
   "source": [
    "\n",
    "import numpy as np\n",
    "import matplotlib.pyplot as plt\n",
    "from sklearn.linear_model import LinearRegression\n",
    "from sklearn.model_selection import train_test_split\n",
    "\n",
    "# Example dataset: years of experience vs salary\n",
    "X = np.array([1, 2, 3, 4, 5]).reshape(-1, 1)\n",
    "y = np.array([30, 35, 40, 45, 50])\n",
    "\n",
    "# Train-test split\n",
    "X_train, X_test, y_train, y_test = train_test_split(X, y, test_size=0.2, random_state=42)\n",
    "\n",
    "# Model\n",
    "model = LinearRegression()\n",
    "model.fit(X_train, y_train)\n",
    "\n",
    "# Predictions\n",
    "y_pred = model.predict(X_test)\n",
    "\n",
    "# Plot\n",
    "plt.scatter(X, y, color='blue', label='Data')\n",
    "plt.plot(X_test, y_pred, color='red', label='Prediction')\n",
    "plt.xlabel(\"Years of Experience\")\n",
    "plt.ylabel(\"Salary ($1000s)\")\n",
    "plt.legend()\n",
    "plt.title(\"Linear Regression - Salary Prediction\")\n",
    "plt.show()\n",
    "\n",
    "print(f\"Intercept: {model.intercept_}\")\n",
    "print(f\"Slope: {model.coef_[0]}\")\n"
   ]
  },
  {
   "cell_type": "markdown",
   "id": "5a8387eb",
   "metadata": {},
   "source": [
    "## 📏 Evaluation Metrics"
   ]
  },
  {
   "cell_type": "code",
   "execution_count": null,
   "id": "c2f71fcd",
   "metadata": {},
   "outputs": [],
   "source": [
    "\n",
    "from sklearn.metrics import mean_squared_error, r2_score\n",
    "\n",
    "mse = mean_squared_error(y_test, y_pred)\n",
    "r2 = r2_score(y_test, y_pred)\n",
    "\n",
    "print(f\"Mean Squared Error: {mse}\")\n",
    "print(f\"R^2 Score: {r2}\")\n"
   ]
  },
  {
   "cell_type": "markdown",
   "id": "6c4c9e7e",
   "metadata": {},
   "source": [
    "## ✅ Summary"
   ]
  },
  {
   "cell_type": "markdown",
   "id": "81903441",
   "metadata": {},
   "source": [
    "\n",
    "- Linear Regression helps model relationships and make predictions.\n",
    "- Cost function helps us measure prediction error.\n",
    "- Gradient Descent is used to minimize this error.\n",
    "- Scikit-learn makes it easy to implement Linear Regression models.\n",
    "\n",
    "You now understand the Why, How, and Where of Linear Regression!\n"
   ]
  }
 ],
 "metadata": {
  "kernelspec": {
   "display_name": "Python 3 (ipykernel)",
   "language": "python",
   "name": "python3"
  },
  "language_info": {
   "codemirror_mode": {
    "name": "ipython",
    "version": 3
   },
   "file_extension": ".py",
   "mimetype": "text/x-python",
   "name": "python",
   "nbconvert_exporter": "python",
   "pygments_lexer": "ipython3",
   "version": "3.12.9"
  }
 },
 "nbformat": 4,
 "nbformat_minor": 5
}
